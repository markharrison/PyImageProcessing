{
 "cells": [
  {
   "cell_type": "code",
   "execution_count": null,
   "metadata": {},
   "outputs": [],
   "source": [
    "import numpy as np\n",
    "from PIL import Image\n",
    "import matplotlib.pyplot as plt\n",
    "\n",
    "# Load the image using PIL (Python Imaging Library)\n",
    "img = Image.open('cat.jpg')\n",
    "\n",
    "# Convert the image to a NumPy array\n",
    "img_array = np.array(img)\n",
    "\n",
    "# Flip the image horizontally\n",
    "flipped_img = np.fliplr(img_array)\n",
    "\n",
    "# Display the original image and the flipped image\n",
    "plt.figure(figsize=(10, 5))\n",
    "\n",
    "# Display the original image\n",
    "plt.subplot(1, 2, 1)\n",
    "plt.imshow(img_array)\n",
    "plt.title('Original Image')\n",
    "plt.axis('off')\n",
    "\n",
    "# Display the flipped image\n",
    "plt.subplot(1, 2, 2)\n",
    "plt.imshow(flipped_img)\n",
    "plt.title('Flipped Image')\n",
    "plt.axis('off')\n",
    "\n",
    "plt.tight_layout()\n",
    "plt.show() "
   ]
  }
 ],
 "metadata": {
  "kernelspec": {
   "display_name": "Python 3",
   "language": "python",
   "name": "python3"
  },
  "language_info": {
   "codemirror_mode": {
    "name": "ipython",
    "version": 3
   },
   "file_extension": ".py",
   "mimetype": "text/x-python",
   "name": "python",
   "nbconvert_exporter": "python",
   "pygments_lexer": "ipython3",
   "version": "3.12.4"
  }
 },
 "nbformat": 4,
 "nbformat_minor": 2
}
